{
 "cells": [
  {
   "cell_type": "code",
   "execution_count": 1,
   "metadata": {},
   "outputs": [
    {
     "name": "stdout",
     "output_type": "stream",
     "text": [
      "Requirement already satisfied: psycopg2 in ./anaconda/lib/python3.6/site-packages\n",
      "\u001b[33mYou are using pip version 9.0.1, however version 18.0 is available.\n",
      "You should consider upgrading via the 'pip install --upgrade pip' command.\u001b[0m\n",
      "Requirement already satisfied: pprint in ./anaconda/lib/python3.6/site-packages\n",
      "\u001b[33mYou are using pip version 9.0.1, however version 18.0 is available.\n",
      "You should consider upgrading via the 'pip install --upgrade pip' command.\u001b[0m\n"
     ]
    }
   ],
   "source": [
    "!pip install psycopg2\n",
    "!pip install pprint"
   ]
  },
  {
   "cell_type": "code",
   "execution_count": 382,
   "metadata": {},
   "outputs": [],
   "source": [
    "import os\n",
    "import logging\n",
    "import numpy as np\n",
    "import psycopg2\n",
    "import psycopg2.extensions\n",
    "import pandas as pd\n",
    "from sqlalchemy import create_engine\n",
    "from sqlalchemy import Table, Column, Integer, Float, MetaData, String\n",
    "from sqlalchemy.orm import sessionmaker\n",
    "from sqlalchemy.ext.declarative import declarative_base"
   ]
  },
  {
   "cell_type": "markdown",
   "metadata": {},
   "source": [
    "Подключаемся к БД и выводим результаты запросов для проверки работы базы"
   ]
  },
  {
   "cell_type": "code",
   "execution_count": 13,
   "metadata": {
    "collapsed": true
   },
   "outputs": [],
   "source": [
    "logging.basicConfig(format='%(asctime)s : %(levelname)s : %(message)s', level=logging.INFO)\n",
    "logger = logging.getLogger(__name__)"
   ]
  },
  {
   "cell_type": "code",
   "execution_count": 24,
   "metadata": {},
   "outputs": [
    {
     "name": "stderr",
     "output_type": "stream",
     "text": [
      "2018-08-23 21:24:16,316 : INFO : Postgres\n"
     ]
    }
   ],
   "source": [
    "logger.info(\"Postgres\")\n",
    "params = {\n",
    "    'host': '0.0.0.0',\n",
    "    'port': '5433',\n",
    "    'user': 'postgres'\n",
    "}\n",
    "conn = psycopg2.connect(**params)"
   ]
  },
  {
   "cell_type": "code",
   "execution_count": 25,
   "metadata": {
    "collapsed": true
   },
   "outputs": [],
   "source": [
    "psycopg2.extensions.register_type(\n",
    "    psycopg2.extensions.UNICODE,\n",
    "    conn\n",
    ")\n",
    "conn.set_isolation_level(\n",
    "    psycopg2.extensions.ISOLATION_LEVEL_AUTOCOMMIT\n",
    ")\n",
    "cursor = conn.cursor()"
   ]
  },
  {
   "cell_type": "code",
   "execution_count": 31,
   "metadata": {
    "collapsed": true
   },
   "outputs": [],
   "source": [
    "sql_str = (\"\"\"select all_desktop.docuuid, all_desktop.desktop_all_v, content_info.timereadexpected,\n",
    "(all_desktop.desktop_all_v/all_desktop.desktop_all_s3) as good_readers\n",
    "from all_desktop inner join content_info on content_info.docuuid = all_desktop.docuuid\n",
    "where all_desktop.desktop_all_s3<>0 and all_desktop.visits > 3000\n",
    "group by all_desktop.docuuid, all_desktop.desktop_all_v, content_info.timereadexpected, all_desktop.desktop_all_s3\n",
    "order by good_readers asc limit 10;\"\"\")"
   ]
  },
  {
   "cell_type": "code",
   "execution_count": 32,
   "metadata": {},
   "outputs": [],
   "source": [
    "cursor.execute(sql_str)\n",
    "conn.commit()"
   ]
  },
  {
   "cell_type": "code",
   "execution_count": 33,
   "metadata": {},
   "outputs": [
    {
     "data": {
      "text/plain": [
       "[('2638cfae-9c74-11e8-96ad-a25db12b5a53', 14691, 86, 1),\n",
       " ('82386dd2-9ba2-11e8-86e9-a25db12b5a53', 4464, 24, 1),\n",
       " ('4b3cddae-9a2b-11e8-a40c-1e0e02e95e35', 9954, 45, 1),\n",
       " ('42321806-94b7-11e8-9e55-fc60c095174f', 3113, 68, 1),\n",
       " ('3d66192a-9490-11e8-9907-2078d824af27', 4913, 48, 1),\n",
       " ('6d7eb81e-9af9-11e8-88d9-f017b12b5a53', 1888, 66, 1),\n",
       " ('6d99ea58-a125-11e8-85de-8f4a631f500f', 17970, 65, 1),\n",
       " ('639f36c2-00ec-11e8-86c6-d6fd8c1371f3', 3334, 257, 1),\n",
       " ('108aa054-96fe-11e8-bcbd-2078d824af27', 18668, 62, 1),\n",
       " ('9f71df54-a215-11e8-92a5-8f4a631f500f', 6537, 91, 1)]"
      ]
     },
     "execution_count": 33,
     "metadata": {},
     "output_type": "execute_result"
    }
   ],
   "source": [
    "cursor.fetchall()"
   ]
  },
  {
   "cell_type": "code",
   "execution_count": 37,
   "metadata": {
    "collapsed": true
   },
   "outputs": [],
   "source": [
    "sql_str_time =(\"\"\"select docuuid, timereadexpected, desktop_all_v, desktop_all_s3,\n",
    "max(desktop_all_v/desktop_all_s3)\n",
    "over (partition by docuuid) as min_scroll\n",
    "from(select all_desktop.docuuid, content_info.timereadexpected, all_desktop.desktop_all_v, all_desktop.desktop_all_s3 from all_desktop\n",
    "join content_info on all_desktop.docuuid = content_info.docuuid\n",
    "where  all_desktop.desktop_all_r > 1000) as sample\n",
    "order by min_scroll desc limit 10;\"\"\")"
   ]
  },
  {
   "cell_type": "code",
   "execution_count": 38,
   "metadata": {
    "collapsed": true
   },
   "outputs": [],
   "source": [
    "cursor.execute(sql_str_time)\n",
    "conn.commit()"
   ]
  },
  {
   "cell_type": "code",
   "execution_count": 39,
   "metadata": {},
   "outputs": [
    {
     "data": {
      "text/plain": [
       "[('78c3ab34-a487-11e8-9645-8f4a631f500f', 106, 13908, 4118, 3),\n",
       " ('78c3ab34-a487-11e8-9645-8f4a631f500f', 106, 13908, 4118, 3),\n",
       " ('78c3ab34-a487-11e8-9645-8f4a631f500f', 106, 33578, 8957, 3),\n",
       " ('78c3ab34-a487-11e8-9645-8f4a631f500f', 106, 33578, 8957, 3),\n",
       " ('0814e520-9d3d-11e8-89aa-a25db12b5a53', 351, 61663, 22363, 2),\n",
       " ('0814e520-9d3d-11e8-89aa-a25db12b5a53', 357, 61663, 22363, 2),\n",
       " ('0814e520-9d3d-11e8-89aa-a25db12b5a53', 355, 61663, 22363, 2),\n",
       " ('0814e520-9d3d-11e8-89aa-a25db12b5a53', 351, 61663, 22363, 2),\n",
       " ('0814e520-9d3d-11e8-89aa-a25db12b5a53', 348, 61663, 22363, 2),\n",
       " ('0814e520-9d3d-11e8-89aa-a25db12b5a53', 351, 61663, 22363, 2)]"
      ]
     },
     "execution_count": 39,
     "metadata": {},
     "output_type": "execute_result"
    }
   ],
   "source": [
    "cursor.fetchall()"
   ]
  },
  {
   "cell_type": "code",
   "execution_count": null,
   "metadata": {
    "collapsed": true
   },
   "outputs": [],
   "source": []
  },
  {
   "cell_type": "markdown",
   "metadata": {},
   "source": [
    "Напишем запросы с помощью Pandas.\n",
    "Для начала подготовим данные"
   ]
  },
  {
   "cell_type": "code",
   "execution_count": 578,
   "metadata": {},
   "outputs": [],
   "source": [
    "data_content_info = pd.read_csv('id_info.csv', dtype={'visitors': int, 'timeReadExpected': int, 'isLong': int})\n",
    "data_social_all = pd.read_csv('sharings.csv', dtype={'visitors': int, 'MAX(shareTotal)': int, 'visits_social': int, 'social_R': int, 'social_V': int, 'social_S3': int})\n",
    "data_all_desktop = pd.read_csv('all_desktop.csv', dtype={'visitors': int, 'desktop_all_R': int, 'desktop_all_V': int, 'desktop_all_S3': int})\n",
    "data_search_all = pd.read_csv('searching.csv', dtype={'visitors': int, 'desktop_search_R': int,'desktop_search_V': int, 'desktop_search_V': int})"
   ]
  },
  {
   "cell_type": "markdown",
   "metadata": {},
   "source": [
    "Первый запрос: какие материалы пользователи читали лучше всего. \n",
    "Выводим с фильтром по количеству читателей, сортируем по отношению трафика к трафику по доскроллу"
   ]
  },
  {
   "cell_type": "code",
   "execution_count": 420,
   "metadata": {},
   "outputs": [],
   "source": [
    "ds_all = data_all_desktop.merge(data_content_info, 'left', on = 'docUuid').drop(['visitors_x','visitors_y','date','isLong'], axis = 1)"
   ]
  },
  {
   "cell_type": "code",
   "execution_count": 421,
   "metadata": {},
   "outputs": [
    {
     "data": {
      "text/html": [
       "<div>\n",
       "<table border=\"1\" class=\"dataframe\">\n",
       "  <thead>\n",
       "    <tr style=\"text-align: right;\">\n",
       "      <th></th>\n",
       "      <th>docUuid</th>\n",
       "      <th>desktop_all_R</th>\n",
       "      <th>desktop_all_V</th>\n",
       "      <th>desktop_all_S3</th>\n",
       "      <th>timeReadExpected</th>\n",
       "    </tr>\n",
       "  </thead>\n",
       "  <tbody>\n",
       "    <tr>\n",
       "      <th>0</th>\n",
       "      <td>d138d0c6-9bf6-11e8-8f8e-eb1702e95e35</td>\n",
       "      <td>313531</td>\n",
       "      <td>434775</td>\n",
       "      <td>323984</td>\n",
       "      <td>68</td>\n",
       "    </tr>\n",
       "    <tr>\n",
       "      <th>1</th>\n",
       "      <td>d138d0c6-9bf6-11e8-8f8e-eb1702e95e35</td>\n",
       "      <td>313531</td>\n",
       "      <td>434775</td>\n",
       "      <td>323984</td>\n",
       "      <td>59</td>\n",
       "    </tr>\n",
       "  </tbody>\n",
       "</table>\n",
       "</div>"
      ],
      "text/plain": [
       "                                docUuid  desktop_all_R  desktop_all_V  \\\n",
       "0  d138d0c6-9bf6-11e8-8f8e-eb1702e95e35         313531         434775   \n",
       "1  d138d0c6-9bf6-11e8-8f8e-eb1702e95e35         313531         434775   \n",
       "\n",
       "   desktop_all_S3  timeReadExpected  \n",
       "0          323984                68  \n",
       "1          323984                59  "
      ]
     },
     "execution_count": 421,
     "metadata": {},
     "output_type": "execute_result"
    }
   ],
   "source": [
    "ds_all.head(2) #проверим как сработало"
   ]
  },
  {
   "cell_type": "code",
   "execution_count": 422,
   "metadata": {},
   "outputs": [],
   "source": [
    "ds_all = ds_all[(ds_all['desktop_all_R'] > 100) & (ds_all['desktop_all_S3'] != 0)]"
   ]
  },
  {
   "cell_type": "code",
   "execution_count": 423,
   "metadata": {},
   "outputs": [],
   "source": [
    "ds_all.insert(3, 'min_scroll', ((ds_all['desktop_all_V']/ds_all['desktop_all_S3'])))"
   ]
  },
  {
   "cell_type": "code",
   "execution_count": 424,
   "metadata": {},
   "outputs": [],
   "source": [
    "ds_best_readers = ds_all.sort_values(by='min_scroll', ascending=True).drop(['desktop_all_R','desktop_all_V','desktop_all_S3'], axis = 1).groupby(['docUuid','min_scroll']).mean()"
   ]
  },
  {
   "cell_type": "code",
   "execution_count": 425,
   "metadata": {},
   "outputs": [
    {
     "data": {
      "text/html": [
       "<div>\n",
       "<table border=\"1\" class=\"dataframe\">\n",
       "  <thead>\n",
       "    <tr style=\"text-align: right;\">\n",
       "      <th></th>\n",
       "      <th></th>\n",
       "      <th>timeReadExpected</th>\n",
       "    </tr>\n",
       "    <tr>\n",
       "      <th>docUuid</th>\n",
       "      <th>min_scroll</th>\n",
       "      <th></th>\n",
       "    </tr>\n",
       "  </thead>\n",
       "  <tbody>\n",
       "    <tr>\n",
       "      <th rowspan=\"2\" valign=\"top\">040fa184-90b5-11e8-ade0-fc60c095174f</th>\n",
       "      <th>1.156522</th>\n",
       "      <td>41.000000</td>\n",
       "    </tr>\n",
       "    <tr>\n",
       "      <th>1.180473</th>\n",
       "      <td>41.000000</td>\n",
       "    </tr>\n",
       "    <tr>\n",
       "      <th>04967534-0bdf-11e8-ae62-ea2c588b2a65</th>\n",
       "      <th>1.083682</th>\n",
       "      <td>82.000000</td>\n",
       "    </tr>\n",
       "    <tr>\n",
       "      <th rowspan=\"2\" valign=\"top\">07b77414-9f98-11e8-b572-eb1702e95e35</th>\n",
       "      <th>1.177083</th>\n",
       "      <td>88.571429</td>\n",
       "    </tr>\n",
       "    <tr>\n",
       "      <th>1.179144</th>\n",
       "      <td>88.571429</td>\n",
       "    </tr>\n",
       "  </tbody>\n",
       "</table>\n",
       "</div>"
      ],
      "text/plain": [
       "                                                 timeReadExpected\n",
       "docUuid                              min_scroll                  \n",
       "040fa184-90b5-11e8-ade0-fc60c095174f 1.156522           41.000000\n",
       "                                     1.180473           41.000000\n",
       "04967534-0bdf-11e8-ae62-ea2c588b2a65 1.083682           82.000000\n",
       "07b77414-9f98-11e8-b572-eb1702e95e35 1.177083           88.571429\n",
       "                                     1.179144           88.571429"
      ]
     },
     "execution_count": 425,
     "metadata": {},
     "output_type": "execute_result"
    }
   ],
   "source": [
    "ds_best_readers.head()"
   ]
  },
  {
   "cell_type": "markdown",
   "metadata": {},
   "source": [
    "Выводим топ-5 материалов, где лучший доскролл."
   ]
  },
  {
   "cell_type": "code",
   "execution_count": 570,
   "metadata": {},
   "outputs": [
    {
     "data": {
      "text/html": [
       "<div>\n",
       "<table border=\"1\" class=\"dataframe\">\n",
       "  <thead>\n",
       "    <tr style=\"text-align: right;\">\n",
       "      <th></th>\n",
       "      <th>docUuid</th>\n",
       "      <th>visitors</th>\n",
       "      <th>desktop_all_R</th>\n",
       "      <th>desktop_all_V</th>\n",
       "      <th>desktop_all_S3</th>\n",
       "    </tr>\n",
       "  </thead>\n",
       "  <tbody>\n",
       "    <tr>\n",
       "      <th>0</th>\n",
       "      <td>d138d0c6-9bf6-11e8-8f8e-eb1702e95e35</td>\n",
       "      <td>525792</td>\n",
       "      <td>313531</td>\n",
       "      <td>434775</td>\n",
       "      <td>323984</td>\n",
       "    </tr>\n",
       "    <tr>\n",
       "      <th>1</th>\n",
       "      <td>99301356-9953-11e8-8039-2078d824af27</td>\n",
       "      <td>255872</td>\n",
       "      <td>135563</td>\n",
       "      <td>223889</td>\n",
       "      <td>171358</td>\n",
       "    </tr>\n",
       "  </tbody>\n",
       "</table>\n",
       "</div>"
      ],
      "text/plain": [
       "                                docUuid  visitors  desktop_all_R  \\\n",
       "0  d138d0c6-9bf6-11e8-8f8e-eb1702e95e35    525792         313531   \n",
       "1  99301356-9953-11e8-8039-2078d824af27    255872         135563   \n",
       "\n",
       "   desktop_all_V  desktop_all_S3  \n",
       "0         434775          323984  \n",
       "1         223889          171358  "
      ]
     },
     "execution_count": 570,
     "metadata": {},
     "output_type": "execute_result"
    }
   ],
   "source": [
    "data_all_desktop.head(2) #используем данный сет"
   ]
  },
  {
   "cell_type": "code",
   "execution_count": 250,
   "metadata": {},
   "outputs": [],
   "source": [
    "data_all_desktop_filter = data_all_desktop[(data_all_desktop['desktop_all_S3'] != 0) & (data_all_desktop['visitors'] >5000)]"
   ]
  },
  {
   "cell_type": "code",
   "execution_count": 252,
   "metadata": {},
   "outputs": [],
   "source": [
    "data_all_desktop_filter.insert(5, 'good_readers', (data_all_desktop_filter['desktop_all_V']/data_all_desktop_filter['desktop_all_S3']))"
   ]
  },
  {
   "cell_type": "code",
   "execution_count": 254,
   "metadata": {},
   "outputs": [],
   "source": [
    "data_good_scroll = data_all_desktop_filter.sort_values(by='good_readers', ascending=True)"
   ]
  },
  {
   "cell_type": "code",
   "execution_count": 255,
   "metadata": {},
   "outputs": [
    {
     "data": {
      "text/html": [
       "<div>\n",
       "<table border=\"1\" class=\"dataframe\">\n",
       "  <thead>\n",
       "    <tr style=\"text-align: right;\">\n",
       "      <th></th>\n",
       "      <th>docUuid</th>\n",
       "      <th>visitors</th>\n",
       "      <th>desktop_all_R</th>\n",
       "      <th>desktop_all_V</th>\n",
       "      <th>desktop_all_S3</th>\n",
       "      <th>good_readers</th>\n",
       "    </tr>\n",
       "  </thead>\n",
       "  <tbody>\n",
       "    <tr>\n",
       "      <th>212</th>\n",
       "      <td>a5dc0066-a154-11e8-84d8-8f4a631f500f</td>\n",
       "      <td>12031</td>\n",
       "      <td>5509</td>\n",
       "      <td>6382</td>\n",
       "      <td>6094</td>\n",
       "      <td>1.047260</td>\n",
       "    </tr>\n",
       "    <tr>\n",
       "      <th>197</th>\n",
       "      <td>a5dc0066-a154-11e8-84d8-8f4a631f500f</td>\n",
       "      <td>13494</td>\n",
       "      <td>8536</td>\n",
       "      <td>9770</td>\n",
       "      <td>9307</td>\n",
       "      <td>1.049748</td>\n",
       "    </tr>\n",
       "    <tr>\n",
       "      <th>307</th>\n",
       "      <td>1a789cb2-9b07-11e8-b29c-f017b12b5a53</td>\n",
       "      <td>5520</td>\n",
       "      <td>1885</td>\n",
       "      <td>2356</td>\n",
       "      <td>2240</td>\n",
       "      <td>1.051786</td>\n",
       "    </tr>\n",
       "    <tr>\n",
       "      <th>276</th>\n",
       "      <td>1a789cb2-9b07-11e8-b29c-f017b12b5a53</td>\n",
       "      <td>7038</td>\n",
       "      <td>2741</td>\n",
       "      <td>3472</td>\n",
       "      <td>3301</td>\n",
       "      <td>1.051802</td>\n",
       "    </tr>\n",
       "    <tr>\n",
       "      <th>304</th>\n",
       "      <td>1a789cb2-9b07-11e8-b29c-f017b12b5a53</td>\n",
       "      <td>5593</td>\n",
       "      <td>3216</td>\n",
       "      <td>3998</td>\n",
       "      <td>3800</td>\n",
       "      <td>1.052105</td>\n",
       "    </tr>\n",
       "  </tbody>\n",
       "</table>\n",
       "</div>"
      ],
      "text/plain": [
       "                                  docUuid  visitors  desktop_all_R  \\\n",
       "212  a5dc0066-a154-11e8-84d8-8f4a631f500f     12031           5509   \n",
       "197  a5dc0066-a154-11e8-84d8-8f4a631f500f     13494           8536   \n",
       "307  1a789cb2-9b07-11e8-b29c-f017b12b5a53      5520           1885   \n",
       "276  1a789cb2-9b07-11e8-b29c-f017b12b5a53      7038           2741   \n",
       "304  1a789cb2-9b07-11e8-b29c-f017b12b5a53      5593           3216   \n",
       "\n",
       "     desktop_all_V  desktop_all_S3  good_readers  \n",
       "212           6382            6094      1.047260  \n",
       "197           9770            9307      1.049748  \n",
       "307           2356            2240      1.051786  \n",
       "276           3472            3301      1.051802  \n",
       "304           3998            3800      1.052105  "
      ]
     },
     "execution_count": 255,
     "metadata": {},
     "output_type": "execute_result"
    }
   ],
   "source": [
    "data_good_scroll.head()"
   ]
  },
  {
   "cell_type": "markdown",
   "metadata": {},
   "source": [
    "Выводим топ-5 материалов по посетителям за определенный день"
   ]
  },
  {
   "cell_type": "code",
   "execution_count": 338,
   "metadata": {},
   "outputs": [],
   "source": [
    "top5_for_day = data_content_info[(data_content_info['date'] == '2018-08-21')].sort_values(by='visitors', ascending=False)"
   ]
  },
  {
   "cell_type": "code",
   "execution_count": 339,
   "metadata": {},
   "outputs": [
    {
     "data": {
      "text/html": [
       "<div>\n",
       "<table border=\"1\" class=\"dataframe\">\n",
       "  <thead>\n",
       "    <tr style=\"text-align: right;\">\n",
       "      <th></th>\n",
       "      <th>docUuid</th>\n",
       "      <th>visitors</th>\n",
       "      <th>date</th>\n",
       "      <th>isLong</th>\n",
       "      <th>timeReadExpected</th>\n",
       "    </tr>\n",
       "  </thead>\n",
       "  <tbody>\n",
       "    <tr>\n",
       "      <th>25</th>\n",
       "      <td>50d199a0-a460-11e8-98a1-41d95f45639c</td>\n",
       "      <td>111587</td>\n",
       "      <td>2018-08-21</td>\n",
       "      <td>0</td>\n",
       "      <td>26</td>\n",
       "    </tr>\n",
       "    <tr>\n",
       "      <th>33</th>\n",
       "      <td>3a0c5bde-a52c-11e8-bd20-41d95f45639c</td>\n",
       "      <td>99190</td>\n",
       "      <td>2018-08-21</td>\n",
       "      <td>0</td>\n",
       "      <td>81</td>\n",
       "    </tr>\n",
       "    <tr>\n",
       "      <th>79</th>\n",
       "      <td>f4d79d92-a519-11e8-a628-8f4a631f500f</td>\n",
       "      <td>40477</td>\n",
       "      <td>2018-08-21</td>\n",
       "      <td>0</td>\n",
       "      <td>45</td>\n",
       "    </tr>\n",
       "    <tr>\n",
       "      <th>85</th>\n",
       "      <td>78c3ab34-a487-11e8-9645-8f4a631f500f</td>\n",
       "      <td>38477</td>\n",
       "      <td>2018-08-21</td>\n",
       "      <td>1</td>\n",
       "      <td>106</td>\n",
       "    </tr>\n",
       "    <tr>\n",
       "      <th>86</th>\n",
       "      <td>bc306efe-a44e-11e8-b3aa-41d95f45639c</td>\n",
       "      <td>36515</td>\n",
       "      <td>2018-08-21</td>\n",
       "      <td>0</td>\n",
       "      <td>58</td>\n",
       "    </tr>\n",
       "  </tbody>\n",
       "</table>\n",
       "</div>"
      ],
      "text/plain": [
       "                                 docUuid  visitors        date  isLong  \\\n",
       "25  50d199a0-a460-11e8-98a1-41d95f45639c    111587  2018-08-21       0   \n",
       "33  3a0c5bde-a52c-11e8-bd20-41d95f45639c     99190  2018-08-21       0   \n",
       "79  f4d79d92-a519-11e8-a628-8f4a631f500f     40477  2018-08-21       0   \n",
       "85  78c3ab34-a487-11e8-9645-8f4a631f500f     38477  2018-08-21       1   \n",
       "86  bc306efe-a44e-11e8-b3aa-41d95f45639c     36515  2018-08-21       0   \n",
       "\n",
       "    timeReadExpected  \n",
       "25                26  \n",
       "33                81  \n",
       "79                45  \n",
       "85               106  \n",
       "86                58  "
      ]
     },
     "execution_count": 339,
     "metadata": {},
     "output_type": "execute_result"
    }
   ],
   "source": [
    "top5_for_day.head()"
   ]
  },
  {
   "cell_type": "markdown",
   "metadata": {},
   "source": [
    "Выведем минимальное количество пользователей, которые стали читателями на десктопной версии сайта для материалов, на которых более 1000 посетителей"
   ]
  },
  {
   "cell_type": "code",
   "execution_count": 581,
   "metadata": {},
   "outputs": [
    {
     "data": {
      "text/html": [
       "<div>\n",
       "<table border=\"1\" class=\"dataframe\">\n",
       "  <thead>\n",
       "    <tr style=\"text-align: right;\">\n",
       "      <th></th>\n",
       "      <th>docUuid</th>\n",
       "      <th>visitors</th>\n",
       "      <th>desktop_all_R</th>\n",
       "      <th>desktop_all_V</th>\n",
       "      <th>desktop_all_S3</th>\n",
       "    </tr>\n",
       "  </thead>\n",
       "  <tbody>\n",
       "    <tr>\n",
       "      <th>0</th>\n",
       "      <td>d138d0c6-9bf6-11e8-8f8e-eb1702e95e35</td>\n",
       "      <td>525792</td>\n",
       "      <td>313531</td>\n",
       "      <td>434775</td>\n",
       "      <td>323984</td>\n",
       "    </tr>\n",
       "    <tr>\n",
       "      <th>1</th>\n",
       "      <td>99301356-9953-11e8-8039-2078d824af27</td>\n",
       "      <td>255872</td>\n",
       "      <td>135563</td>\n",
       "      <td>223889</td>\n",
       "      <td>171358</td>\n",
       "    </tr>\n",
       "  </tbody>\n",
       "</table>\n",
       "</div>"
      ],
      "text/plain": [
       "                                docUuid  visitors  desktop_all_R  \\\n",
       "0  d138d0c6-9bf6-11e8-8f8e-eb1702e95e35    525792         313531   \n",
       "1  99301356-9953-11e8-8039-2078d824af27    255872         135563   \n",
       "\n",
       "   desktop_all_V  desktop_all_S3  \n",
       "0         434775          323984  \n",
       "1         223889          171358  "
      ]
     },
     "execution_count": 581,
     "metadata": {},
     "output_type": "execute_result"
    }
   ],
   "source": [
    "data_all_desktop.head(2) #используем данный сет"
   ]
  },
  {
   "cell_type": "code",
   "execution_count": 588,
   "metadata": {},
   "outputs": [],
   "source": [
    "data_all_min = data_all_desktop[(data_all_desktop['visitors'] > 1000)].sort_values(by='desktop_all_R', ascending = True)"
   ]
  },
  {
   "cell_type": "code",
   "execution_count": 594,
   "metadata": {
    "scrolled": true
   },
   "outputs": [
    {
     "data": {
      "text/html": [
       "<div>\n",
       "<table border=\"1\" class=\"dataframe\">\n",
       "  <thead>\n",
       "    <tr style=\"text-align: right;\">\n",
       "      <th></th>\n",
       "      <th>visitors</th>\n",
       "      <th>desktop_all_R</th>\n",
       "      <th>desktop_all_V</th>\n",
       "      <th>desktop_all_S3</th>\n",
       "    </tr>\n",
       "    <tr>\n",
       "      <th>docUuid</th>\n",
       "      <th></th>\n",
       "      <th></th>\n",
       "      <th></th>\n",
       "      <th></th>\n",
       "    </tr>\n",
       "  </thead>\n",
       "  <tbody>\n",
       "    <tr>\n",
       "      <th>d95fc914-170b-11e8-b027-36686c0143b9</th>\n",
       "      <td>2846.666667</td>\n",
       "      <td>218.333333</td>\n",
       "      <td>406.0</td>\n",
       "      <td>180.333333</td>\n",
       "    </tr>\n",
       "    <tr>\n",
       "      <th>e4525d10-6962-11e8-bf55-fb1b3249e00a</th>\n",
       "      <td>1011.000000</td>\n",
       "      <td>264.000000</td>\n",
       "      <td>770.0</td>\n",
       "      <td>687.000000</td>\n",
       "    </tr>\n",
       "    <tr>\n",
       "      <th>9258c4e2-9188-11e8-baef-fc60c095174f</th>\n",
       "      <td>1734.333333</td>\n",
       "      <td>549.333333</td>\n",
       "      <td>1365.0</td>\n",
       "      <td>582.333333</td>\n",
       "    </tr>\n",
       "    <tr>\n",
       "      <th>d1983f34-7072-11e8-9b2e-ab7403c1ce92</th>\n",
       "      <td>1096.000000</td>\n",
       "      <td>578.000000</td>\n",
       "      <td>974.0</td>\n",
       "      <td>621.000000</td>\n",
       "    </tr>\n",
       "    <tr>\n",
       "      <th>f8f22494-91ad-11e8-ac8f-fc60c095174f</th>\n",
       "      <td>1520.000000</td>\n",
       "      <td>623.000000</td>\n",
       "      <td>887.0</td>\n",
       "      <td>655.000000</td>\n",
       "    </tr>\n",
       "  </tbody>\n",
       "</table>\n",
       "</div>"
      ],
      "text/plain": [
       "                                         visitors  desktop_all_R  \\\n",
       "docUuid                                                            \n",
       "d95fc914-170b-11e8-b027-36686c0143b9  2846.666667     218.333333   \n",
       "e4525d10-6962-11e8-bf55-fb1b3249e00a  1011.000000     264.000000   \n",
       "9258c4e2-9188-11e8-baef-fc60c095174f  1734.333333     549.333333   \n",
       "d1983f34-7072-11e8-9b2e-ab7403c1ce92  1096.000000     578.000000   \n",
       "f8f22494-91ad-11e8-ac8f-fc60c095174f  1520.000000     623.000000   \n",
       "\n",
       "                                      desktop_all_V  desktop_all_S3  \n",
       "docUuid                                                              \n",
       "d95fc914-170b-11e8-b027-36686c0143b9          406.0      180.333333  \n",
       "e4525d10-6962-11e8-bf55-fb1b3249e00a          770.0      687.000000  \n",
       "9258c4e2-9188-11e8-baef-fc60c095174f         1365.0      582.333333  \n",
       "d1983f34-7072-11e8-9b2e-ab7403c1ce92          974.0      621.000000  \n",
       "f8f22494-91ad-11e8-ac8f-fc60c095174f          887.0      655.000000  "
      ]
     },
     "execution_count": 594,
     "metadata": {},
     "output_type": "execute_result"
    }
   ],
   "source": [
    "data_all_min.groupby(by='docUuid').mean().sort_values(by='desktop_all_R', ascending=True).head(5)"
   ]
  },
  {
   "cell_type": "markdown",
   "metadata": {},
   "source": [
    "Смотрим количество посетителей на длинных статьях (islong = 1) за два дня - 20 и 21 августа"
   ]
  },
  {
   "cell_type": "code",
   "execution_count": 521,
   "metadata": {},
   "outputs": [
    {
     "data": {
      "text/html": [
       "<div>\n",
       "<table border=\"1\" class=\"dataframe\">\n",
       "  <thead>\n",
       "    <tr style=\"text-align: right;\">\n",
       "      <th></th>\n",
       "      <th>docUuid</th>\n",
       "      <th>visitors</th>\n",
       "      <th>date</th>\n",
       "      <th>isLong</th>\n",
       "      <th>timeReadExpected</th>\n",
       "    </tr>\n",
       "  </thead>\n",
       "  <tbody>\n",
       "    <tr>\n",
       "      <th>0</th>\n",
       "      <td>d138d0c6-9bf6-11e8-8f8e-eb1702e95e35</td>\n",
       "      <td>525792</td>\n",
       "      <td>2018-08-10</td>\n",
       "      <td>0</td>\n",
       "      <td>68</td>\n",
       "    </tr>\n",
       "    <tr>\n",
       "      <th>1</th>\n",
       "      <td>99301356-9953-11e8-8039-2078d824af27</td>\n",
       "      <td>255872</td>\n",
       "      <td>2018-08-06</td>\n",
       "      <td>0</td>\n",
       "      <td>35</td>\n",
       "    </tr>\n",
       "  </tbody>\n",
       "</table>\n",
       "</div>"
      ],
      "text/plain": [
       "                                docUuid  visitors        date  isLong  \\\n",
       "0  d138d0c6-9bf6-11e8-8f8e-eb1702e95e35    525792  2018-08-10       0   \n",
       "1  99301356-9953-11e8-8039-2078d824af27    255872  2018-08-06       0   \n",
       "\n",
       "   timeReadExpected  \n",
       "0                68  \n",
       "1                35  "
      ]
     },
     "execution_count": 521,
     "metadata": {},
     "output_type": "execute_result"
    }
   ],
   "source": [
    "data_content_info.head(2)"
   ]
  },
  {
   "cell_type": "code",
   "execution_count": 522,
   "metadata": {
    "collapsed": true
   },
   "outputs": [],
   "source": [
    "top_for_2days = data_content_info[(data_content_info['date'] > '2018-08-19') & (data_content_info['isLong'] == 1)]"
   ]
  },
  {
   "cell_type": "code",
   "execution_count": 523,
   "metadata": {},
   "outputs": [
    {
     "data": {
      "text/html": [
       "<div>\n",
       "<table border=\"1\" class=\"dataframe\">\n",
       "  <thead>\n",
       "    <tr style=\"text-align: right;\">\n",
       "      <th></th>\n",
       "      <th>docUuid</th>\n",
       "      <th>visitors</th>\n",
       "      <th>date</th>\n",
       "      <th>isLong</th>\n",
       "      <th>timeReadExpected</th>\n",
       "    </tr>\n",
       "  </thead>\n",
       "  <tbody>\n",
       "    <tr>\n",
       "      <th>85</th>\n",
       "      <td>78c3ab34-a487-11e8-9645-8f4a631f500f</td>\n",
       "      <td>38477</td>\n",
       "      <td>2018-08-21</td>\n",
       "      <td>1</td>\n",
       "      <td>106</td>\n",
       "    </tr>\n",
       "    <tr>\n",
       "      <th>145</th>\n",
       "      <td>78c3ab34-a487-11e8-9645-8f4a631f500f</td>\n",
       "      <td>19143</td>\n",
       "      <td>2018-08-20</td>\n",
       "      <td>1</td>\n",
       "      <td>106</td>\n",
       "    </tr>\n",
       "    <tr>\n",
       "      <th>187</th>\n",
       "      <td>69f972a4-a168-11e8-9077-41d95f45639c</td>\n",
       "      <td>14266</td>\n",
       "      <td>2018-08-20</td>\n",
       "      <td>1</td>\n",
       "      <td>165</td>\n",
       "    </tr>\n",
       "    <tr>\n",
       "      <th>312</th>\n",
       "      <td>c43b5286-a146-11e8-bf2c-8f4a631f500f</td>\n",
       "      <td>5363</td>\n",
       "      <td>2018-08-20</td>\n",
       "      <td>1</td>\n",
       "      <td>134</td>\n",
       "    </tr>\n",
       "    <tr>\n",
       "      <th>416</th>\n",
       "      <td>69f972a4-a168-11e8-9077-41d95f45639c</td>\n",
       "      <td>2271</td>\n",
       "      <td>2018-08-21</td>\n",
       "      <td>1</td>\n",
       "      <td>165</td>\n",
       "    </tr>\n",
       "    <tr>\n",
       "      <th>465</th>\n",
       "      <td>0814e520-9d3d-11e8-89aa-a25db12b5a53</td>\n",
       "      <td>1554</td>\n",
       "      <td>2018-08-21</td>\n",
       "      <td>1</td>\n",
       "      <td>351</td>\n",
       "    </tr>\n",
       "    <tr>\n",
       "      <th>502</th>\n",
       "      <td>96de7c24-00eb-11e8-8743-a08db8bcf5f7</td>\n",
       "      <td>1176</td>\n",
       "      <td>2018-08-20</td>\n",
       "      <td>1</td>\n",
       "      <td>289</td>\n",
       "    </tr>\n",
       "    <tr>\n",
       "      <th>612</th>\n",
       "      <td>96de8e12-00eb-11e8-8743-a08db8bcf5f7</td>\n",
       "      <td>711</td>\n",
       "      <td>2018-08-21</td>\n",
       "      <td>1</td>\n",
       "      <td>277</td>\n",
       "    </tr>\n",
       "    <tr>\n",
       "      <th>657</th>\n",
       "      <td>c43b5286-a146-11e8-bf2c-8f4a631f500f</td>\n",
       "      <td>601</td>\n",
       "      <td>2018-08-21</td>\n",
       "      <td>1</td>\n",
       "      <td>126</td>\n",
       "    </tr>\n",
       "    <tr>\n",
       "      <th>668</th>\n",
       "      <td>d95fc914-170b-11e8-b027-36686c0143b9</td>\n",
       "      <td>586</td>\n",
       "      <td>2018-08-20</td>\n",
       "      <td>1</td>\n",
       "      <td>502</td>\n",
       "    </tr>\n",
       "    <tr>\n",
       "      <th>739</th>\n",
       "      <td>0814e520-9d3d-11e8-89aa-a25db12b5a53</td>\n",
       "      <td>456</td>\n",
       "      <td>2018-08-20</td>\n",
       "      <td>1</td>\n",
       "      <td>355</td>\n",
       "    </tr>\n",
       "    <tr>\n",
       "      <th>749</th>\n",
       "      <td>96de7c24-00eb-11e8-8743-a08db8bcf5f7</td>\n",
       "      <td>444</td>\n",
       "      <td>2018-08-21</td>\n",
       "      <td>1</td>\n",
       "      <td>289</td>\n",
       "    </tr>\n",
       "    <tr>\n",
       "      <th>879</th>\n",
       "      <td>25108336-7c55-11e8-8ab0-4ceaba6bc217</td>\n",
       "      <td>305</td>\n",
       "      <td>2018-08-21</td>\n",
       "      <td>1</td>\n",
       "      <td>203</td>\n",
       "    </tr>\n",
       "    <tr>\n",
       "      <th>990</th>\n",
       "      <td>639f36c2-00ec-11e8-86c6-d6fd8c1371f3</td>\n",
       "      <td>240</td>\n",
       "      <td>2018-08-20</td>\n",
       "      <td>1</td>\n",
       "      <td>257</td>\n",
       "    </tr>\n",
       "  </tbody>\n",
       "</table>\n",
       "</div>"
      ],
      "text/plain": [
       "                                  docUuid  visitors        date  isLong  \\\n",
       "85   78c3ab34-a487-11e8-9645-8f4a631f500f     38477  2018-08-21       1   \n",
       "145  78c3ab34-a487-11e8-9645-8f4a631f500f     19143  2018-08-20       1   \n",
       "187  69f972a4-a168-11e8-9077-41d95f45639c     14266  2018-08-20       1   \n",
       "312  c43b5286-a146-11e8-bf2c-8f4a631f500f      5363  2018-08-20       1   \n",
       "416  69f972a4-a168-11e8-9077-41d95f45639c      2271  2018-08-21       1   \n",
       "465  0814e520-9d3d-11e8-89aa-a25db12b5a53      1554  2018-08-21       1   \n",
       "502  96de7c24-00eb-11e8-8743-a08db8bcf5f7      1176  2018-08-20       1   \n",
       "612  96de8e12-00eb-11e8-8743-a08db8bcf5f7       711  2018-08-21       1   \n",
       "657  c43b5286-a146-11e8-bf2c-8f4a631f500f       601  2018-08-21       1   \n",
       "668  d95fc914-170b-11e8-b027-36686c0143b9       586  2018-08-20       1   \n",
       "739  0814e520-9d3d-11e8-89aa-a25db12b5a53       456  2018-08-20       1   \n",
       "749  96de7c24-00eb-11e8-8743-a08db8bcf5f7       444  2018-08-21       1   \n",
       "879  25108336-7c55-11e8-8ab0-4ceaba6bc217       305  2018-08-21       1   \n",
       "990  639f36c2-00ec-11e8-86c6-d6fd8c1371f3       240  2018-08-20       1   \n",
       "\n",
       "     timeReadExpected  \n",
       "85                106  \n",
       "145               106  \n",
       "187               165  \n",
       "312               134  \n",
       "416               165  \n",
       "465               351  \n",
       "502               289  \n",
       "612               277  \n",
       "657               126  \n",
       "668               502  \n",
       "739               355  \n",
       "749               289  \n",
       "879               203  \n",
       "990               257  "
      ]
     },
     "execution_count": 523,
     "metadata": {},
     "output_type": "execute_result"
    }
   ],
   "source": [
    "top_for_2days"
   ]
  },
  {
   "cell_type": "code",
   "execution_count": 369,
   "metadata": {},
   "outputs": [],
   "source": [
    "top_for_2days.insert(2, 'counter_visit', top_for_2days['docUuid'].count()) #вот тут у меня не получилось корректно посчитать"
   ]
  },
  {
   "cell_type": "code",
   "execution_count": 569,
   "metadata": {},
   "outputs": [
    {
     "data": {
      "text/html": [
       "<div>\n",
       "<table border=\"1\" class=\"dataframe\">\n",
       "  <thead>\n",
       "    <tr style=\"text-align: right;\">\n",
       "      <th></th>\n",
       "      <th>docUuid</th>\n",
       "      <th>visitors</th>\n",
       "      <th>date</th>\n",
       "      <th>isLong</th>\n",
       "      <th>timeReadExpected</th>\n",
       "    </tr>\n",
       "  </thead>\n",
       "  <tbody>\n",
       "    <tr>\n",
       "      <th>85</th>\n",
       "      <td>78c3ab34-a487-11e8-9645-8f4a631f500f</td>\n",
       "      <td>38477</td>\n",
       "      <td>2018-08-21</td>\n",
       "      <td>1</td>\n",
       "      <td>106</td>\n",
       "    </tr>\n",
       "    <tr>\n",
       "      <th>145</th>\n",
       "      <td>78c3ab34-a487-11e8-9645-8f4a631f500f</td>\n",
       "      <td>19143</td>\n",
       "      <td>2018-08-20</td>\n",
       "      <td>1</td>\n",
       "      <td>106</td>\n",
       "    </tr>\n",
       "  </tbody>\n",
       "</table>\n",
       "</div>"
      ],
      "text/plain": [
       "                                  docUuid  visitors        date  isLong  \\\n",
       "85   78c3ab34-a487-11e8-9645-8f4a631f500f     38477  2018-08-21       1   \n",
       "145  78c3ab34-a487-11e8-9645-8f4a631f500f     19143  2018-08-20       1   \n",
       "\n",
       "     timeReadExpected  \n",
       "85                106  \n",
       "145               106  "
      ]
     },
     "execution_count": 569,
     "metadata": {},
     "output_type": "execute_result"
    }
   ],
   "source": [
    "top_for_2days.head(2)"
   ]
  },
  {
   "cell_type": "markdown",
   "metadata": {},
   "source": [
    "Смотрим разницу среднего поискового трафика и поискового трафика за каждый день"
   ]
  },
  {
   "cell_type": "code",
   "execution_count": 557,
   "metadata": {},
   "outputs": [
    {
     "data": {
      "text/html": [
       "<div>\n",
       "<table border=\"1\" class=\"dataframe\">\n",
       "  <thead>\n",
       "    <tr style=\"text-align: right;\">\n",
       "      <th></th>\n",
       "      <th>docUuid</th>\n",
       "      <th>visitors</th>\n",
       "      <th>desktop_search_R</th>\n",
       "      <th>desktop_search_V</th>\n",
       "      <th>desktop_search_S3</th>\n",
       "    </tr>\n",
       "  </thead>\n",
       "  <tbody>\n",
       "    <tr>\n",
       "      <th>0</th>\n",
       "      <td>d138d0c6-9bf6-11e8-8f8e-eb1702e95e35</td>\n",
       "      <td>525792</td>\n",
       "      <td>1618</td>\n",
       "      <td>2040</td>\n",
       "      <td>1673</td>\n",
       "    </tr>\n",
       "    <tr>\n",
       "      <th>1</th>\n",
       "      <td>99301356-9953-11e8-8039-2078d824af27</td>\n",
       "      <td>255872</td>\n",
       "      <td>46</td>\n",
       "      <td>76</td>\n",
       "      <td>53</td>\n",
       "    </tr>\n",
       "  </tbody>\n",
       "</table>\n",
       "</div>"
      ],
      "text/plain": [
       "                                docUuid  visitors  desktop_search_R  \\\n",
       "0  d138d0c6-9bf6-11e8-8f8e-eb1702e95e35    525792              1618   \n",
       "1  99301356-9953-11e8-8039-2078d824af27    255872                46   \n",
       "\n",
       "   desktop_search_V  desktop_search_S3  \n",
       "0              2040               1673  \n",
       "1                76                 53  "
      ]
     },
     "execution_count": 557,
     "metadata": {},
     "output_type": "execute_result"
    }
   ],
   "source": [
    "data_search_all.head(2) #используем этот сет"
   ]
  },
  {
   "cell_type": "code",
   "execution_count": 558,
   "metadata": {
    "collapsed": true
   },
   "outputs": [],
   "source": [
    "traffic_dif_filter = data_search_all[(data_search_all['visitors'] >= 1000)].drop(['desktop_search_R','desktop_search_S3','visitors'], axis = 1)"
   ]
  },
  {
   "cell_type": "code",
   "execution_count": 560,
   "metadata": {
    "collapsed": true
   },
   "outputs": [],
   "source": [
    "groups = traffic_dif_filter.groupby(by='docUuid')"
   ]
  },
  {
   "cell_type": "code",
   "execution_count": 561,
   "metadata": {},
   "outputs": [],
   "source": [
    "traffic_dif_filter['descktop_search_V_mean_by_id'] = groups['desktop_search_V'].transform('mean')"
   ]
  },
  {
   "cell_type": "code",
   "execution_count": 562,
   "metadata": {},
   "outputs": [],
   "source": [
    "traffic_dif_filter.insert(2, 'traffic_dif', traffic_dif_filter['desktop_search_V'] - traffic_dif_filter['descktop_search_V_mean_by_id'])"
   ]
  },
  {
   "cell_type": "code",
   "execution_count": 567,
   "metadata": {},
   "outputs": [
    {
     "data": {
      "text/html": [
       "<div>\n",
       "<table border=\"1\" class=\"dataframe\">\n",
       "  <thead>\n",
       "    <tr style=\"text-align: right;\">\n",
       "      <th></th>\n",
       "      <th>docUuid</th>\n",
       "      <th>desktop_search_V</th>\n",
       "      <th>traffic_dif</th>\n",
       "      <th>descktop_search_V_mean_by_id</th>\n",
       "    </tr>\n",
       "  </thead>\n",
       "  <tbody>\n",
       "    <tr>\n",
       "      <th>5</th>\n",
       "      <td>ae8e992c-a08b-11e8-9082-41d95f45639c</td>\n",
       "      <td>2162</td>\n",
       "      <td>1679.714286</td>\n",
       "      <td>482.285714</td>\n",
       "    </tr>\n",
       "    <tr>\n",
       "      <th>0</th>\n",
       "      <td>d138d0c6-9bf6-11e8-8f8e-eb1702e95e35</td>\n",
       "      <td>2040</td>\n",
       "      <td>1627.125000</td>\n",
       "      <td>412.875000</td>\n",
       "    </tr>\n",
       "    <tr>\n",
       "      <th>26</th>\n",
       "      <td>510a1d42-9c87-11e8-9dc5-a25db12b5a53</td>\n",
       "      <td>2317</td>\n",
       "      <td>1553.909091</td>\n",
       "      <td>763.090909</td>\n",
       "    </tr>\n",
       "    <tr>\n",
       "      <th>8</th>\n",
       "      <td>3d66192a-9490-11e8-9907-2078d824af27</td>\n",
       "      <td>1826</td>\n",
       "      <td>1515.777778</td>\n",
       "      <td>310.222222</td>\n",
       "    </tr>\n",
       "    <tr>\n",
       "      <th>19</th>\n",
       "      <td>1a789cb2-9b07-11e8-b29c-f017b12b5a53</td>\n",
       "      <td>1906</td>\n",
       "      <td>1503.666667</td>\n",
       "      <td>402.333333</td>\n",
       "    </tr>\n",
       "  </tbody>\n",
       "</table>\n",
       "</div>"
      ],
      "text/plain": [
       "                                 docUuid  desktop_search_V  traffic_dif  \\\n",
       "5   ae8e992c-a08b-11e8-9082-41d95f45639c              2162  1679.714286   \n",
       "0   d138d0c6-9bf6-11e8-8f8e-eb1702e95e35              2040  1627.125000   \n",
       "26  510a1d42-9c87-11e8-9dc5-a25db12b5a53              2317  1553.909091   \n",
       "8   3d66192a-9490-11e8-9907-2078d824af27              1826  1515.777778   \n",
       "19  1a789cb2-9b07-11e8-b29c-f017b12b5a53              1906  1503.666667   \n",
       "\n",
       "    descktop_search_V_mean_by_id  \n",
       "5                     482.285714  \n",
       "0                     412.875000  \n",
       "26                    763.090909  \n",
       "8                     310.222222  \n",
       "19                    402.333333  "
      ]
     },
     "execution_count": 567,
     "metadata": {},
     "output_type": "execute_result"
    }
   ],
   "source": [
    "traffic_dif_filter.sort_values(by='traffic_dif', ascending = False).head(5)"
   ]
  },
  {
   "cell_type": "markdown",
   "metadata": {},
   "source": [
    "Сохраним в CSV"
   ]
  },
  {
   "cell_type": "code",
   "execution_count": 568,
   "metadata": {
    "collapsed": true
   },
   "outputs": [],
   "source": [
    "traffic_dif_filter.sort_values(by='traffic_dif', ascending = False).to_csv('search_diviation.csv')"
   ]
  },
  {
   "cell_type": "code",
   "execution_count": null,
   "metadata": {
    "collapsed": true
   },
   "outputs": [],
   "source": []
  }
 ],
 "metadata": {
  "kernelspec": {
   "display_name": "Python 3",
   "language": "python",
   "name": "python3"
  },
  "language_info": {
   "codemirror_mode": {
    "name": "ipython",
    "version": 3
   },
   "file_extension": ".py",
   "mimetype": "text/x-python",
   "name": "python",
   "nbconvert_exporter": "python",
   "pygments_lexer": "ipython3",
   "version": "3.6.0"
  }
 },
 "nbformat": 4,
 "nbformat_minor": 2
}
